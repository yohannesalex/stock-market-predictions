{
 "cells": [
  {
   "cell_type": "code",
   "execution_count": 1,
   "metadata": {},
   "outputs": [],
   "source": [
    "import pandas as pd"
   ]
  },
  {
   "cell_type": "code",
   "execution_count": 7,
   "metadata": {},
   "outputs": [],
   "source": [
    "apple_data = pd.read_csv('../src/data/yfinance_data/AAPL_historical_data.csv')\n",
    "amazon_data = pd.read_csv('../src/data/yfinance_data/AMZN_historical_data.csv')\n",
    "google_data = pd.read_csv('../src/data/yfinance_data/GOOG_historical_data.csv')\n",
    "meta_data = pd.read_csv('../src/data/yfinance_data/META_historical_data.csv')\n",
    "microsoft_data = pd.read_csv('../src/data/yfinance_data/MSFT_historical_data.csv')\n",
    "nvidia_data = pd.read_csv('../src/data/yfinance_data/NVDA_historical_data.csv')\n",
    "tesla_data = pd.read_csv('../src/data/yfinance_data/TSLA_historical_data.csv')"
   ]
  }
 ],
 "metadata": {
  "kernelspec": {
   "display_name": ".venv",
   "language": "python",
   "name": "python3"
  },
  "language_info": {
   "codemirror_mode": {
    "name": "ipython",
    "version": 3
   },
   "file_extension": ".py",
   "mimetype": "text/x-python",
   "name": "python",
   "nbconvert_exporter": "python",
   "pygments_lexer": "ipython3",
   "version": "3.11.9"
  }
 },
 "nbformat": 4,
 "nbformat_minor": 2
}
